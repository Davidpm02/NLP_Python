{
 "cells": [
  {
   "cell_type": "markdown",
   "id": "22bafd69-25f0-496b-b7fe-deee81d0071d",
   "metadata": {},
   "source": [
    "# Objetivo de este notebook\n",
    "\n",
    "El fichero Jupyter Notebook actual tiene como objetivo la construcción de un modelo clasificador de texto. Este se utilizará para practicar el desarrollo de un modelo desde cero, que, junto con el procesamiento adecuado de los datos de entrenamiento, sea capaz de hacer buenas clasificaciones, agrupando correctamente las instancias que no ha visto durante este entrenamiento."
   ]
  },
  {
   "cell_type": "markdown",
   "id": "995045ff-51dc-4535-98c7-f635946ac890",
   "metadata": {},
   "source": [
    "---\n",
    "\n",
    "<br>\n",
    "<br>"
   ]
  },
  {
   "cell_type": "markdown",
   "id": "9eff0290-c8a4-41fd-990b-d2b1cfaa7665",
   "metadata": {},
   "source": [
    "# Importar las librerías necesarias\n",
    "\n",
    "La siguiente celda reune las importaciones de todas las librerías que se utilizan en este fichero Jupyter"
   ]
  },
  {
   "cell_type": "code",
   "execution_count": 1,
   "id": "23a5db8b-b861-4111-8248-e302b662c8c6",
   "metadata": {
    "tags": []
   },
   "outputs": [],
   "source": [
    "# Librerías de manupulación de datos\n",
    "import numpy as np\n",
    "import pandas as pd\n",
    "\n",
    "# SkLearn\n",
    "from sklearn.model_selection import train_test_split\n",
    "\n",
    "# Visualización de datos\n",
    "import matplotlib.pyplot as plt\n",
    "\n",
    "# Otros\n",
    "import os\n",
    "import string"
   ]
  },
  {
   "cell_type": "markdown",
   "id": "e3585a94-a3c1-4266-a9c3-362334bd5570",
   "metadata": {},
   "source": [
    "---\n",
    "\n",
    "<br>\n",
    "<br>"
   ]
  },
  {
   "cell_type": "markdown",
   "id": "1b450a3e-b274-4735-9ec5-f27593d93965",
   "metadata": {},
   "source": [
    "# Cargando el dataset en memoria\n",
    "\n",
    "El primer paso es cargar en memoria el conjunto de datos."
   ]
  },
  {
   "cell_type": "code",
   "execution_count": 2,
   "id": "c0d52420-52f9-42bc-85be-ae0173e03274",
   "metadata": {
    "tags": []
   },
   "outputs": [
    {
     "data": {
      "text/html": [
       "<div>\n",
       "<style scoped>\n",
       "    .dataframe tbody tr th:only-of-type {\n",
       "        vertical-align: middle;\n",
       "    }\n",
       "\n",
       "    .dataframe tbody tr th {\n",
       "        vertical-align: top;\n",
       "    }\n",
       "\n",
       "    .dataframe thead th {\n",
       "        text-align: right;\n",
       "    }\n",
       "</style>\n",
       "<table border=\"1\" class=\"dataframe\">\n",
       "  <thead>\n",
       "    <tr style=\"text-align: right;\">\n",
       "      <th></th>\n",
       "      <th>lyric</th>\n",
       "      <th>class</th>\n",
       "    </tr>\n",
       "  </thead>\n",
       "  <tbody>\n",
       "    <tr>\n",
       "      <th>0</th>\n",
       "      <td>Can't drink without thinkin' about you</td>\n",
       "      <td>1</td>\n",
       "    </tr>\n",
       "    <tr>\n",
       "      <th>1</th>\n",
       "      <td>Now Lil Pump flyin' private jet (Yuh)</td>\n",
       "      <td>0</td>\n",
       "    </tr>\n",
       "    <tr>\n",
       "      <th>2</th>\n",
       "      <td>No, matter fact, you ain't help me when I had ...</td>\n",
       "      <td>0</td>\n",
       "    </tr>\n",
       "    <tr>\n",
       "      <th>3</th>\n",
       "      <td>And you could find me, I ain't hidin'</td>\n",
       "      <td>0</td>\n",
       "    </tr>\n",
       "    <tr>\n",
       "      <th>4</th>\n",
       "      <td>From the way you talk to the way you move</td>\n",
       "      <td>1</td>\n",
       "    </tr>\n",
       "  </tbody>\n",
       "</table>\n",
       "</div>"
      ],
      "text/plain": [
       "                                               lyric  class\n",
       "0             Can't drink without thinkin' about you      1\n",
       "1              Now Lil Pump flyin' private jet (Yuh)      0\n",
       "2  No, matter fact, you ain't help me when I had ...      0\n",
       "3              And you could find me, I ain't hidin'      0\n",
       "4          From the way you talk to the way you move      1"
      ]
     },
     "execution_count": 2,
     "metadata": {},
     "output_type": "execute_result"
    }
   ],
   "source": [
    "# Ruta del conjunto de entrenamiento\n",
    "train_path = \"data/train.csv\"\n",
    "\n",
    "# Instancio un objeto DataFrame que cargue el dataset\n",
    "train_df = pd.read_csv(train_path, low_memory = False)\n",
    "\n",
    "# 5 primeros registros del DataFrame\n",
    "train_df.head()"
   ]
  },
  {
   "cell_type": "markdown",
   "id": "1ba810e2-4dd9-4852-8072-d694037555a0",
   "metadata": {},
   "source": [
    "---\n",
    "\n",
    "<br>\n",
    "<br>"
   ]
  },
  {
   "cell_type": "markdown",
   "id": "dfce3b61-d057-4caa-aaa2-670947239c17",
   "metadata": {},
   "source": [
    "# Data Wrangling\n",
    "\n",
    "Las siguientes celdas tratan de dirigir el proceso de \n",
    "preparación de datos para el entrenamiento del modelo \n",
    "clasificador."
   ]
  },
  {
   "cell_type": "markdown",
   "id": "862da806-9bef-4352-b22c-d81f4b264eaf",
   "metadata": {},
   "source": [
    "---\n",
    "\n",
    "<br>\n",
    "<br>"
   ]
  },
  {
   "cell_type": "markdown",
   "id": "50d2fee9-8fad-45df-bcd5-809acaf4d1c2",
   "metadata": {},
   "source": [
    "### Separación de datos de cada etiqueta\n",
    "\n",
    "El dataset reune textos que pertenecen a dos clases\n",
    "diferentes. Como paso inicial en el procesamiento de este\n",
    "conjunto de datos, es necesario separar los diferentes\n",
    "registros, de modo que podamos acceder a los textos\n",
    "de cada uno de los tipos de música, de manera independiente."
   ]
  },
  {
   "cell_type": "code",
   "execution_count": 3,
   "id": "64e465a9-1759-4329-96d6-dd7bbf091ddf",
   "metadata": {
    "tags": []
   },
   "outputs": [],
   "source": [
    "# Las siguientes listas contienen los textos y las etiquetas\n",
    "# de cada registro\n",
    "\n",
    "textos = train_df[\"lyric\"]\n",
    "etiquetas = train_df[\"class\"]"
   ]
  },
  {
   "cell_type": "code",
   "execution_count": 4,
   "id": "bbe6d5c9-9557-46ca-8aa1-fa30a82b1629",
   "metadata": {
    "tags": []
   },
   "outputs": [],
   "source": [
    "# Separo los textos de pop de los de rap\n",
    "\n",
    "# ETIQUETA POP = 1\n",
    "pop_textos = [texto for texto, etiqueta in zip(textos, etiquetas) if etiqueta == 1]\n",
    "pop_etiquetas = [1 for texto in pop_textos]\n",
    "\n",
    "# ETIQUETA RAP = 0\n",
    "rap_textos = [texto for texto, etiqueta in zip(textos, etiquetas) if etiqueta == 0]\n",
    "rap_etiquetas = [0 for texto in rap_textos]"
   ]
  },
  {
   "cell_type": "code",
   "execution_count": 5,
   "id": "f58ac54f-8c73-40fe-9d80-3eb7ebe4e9f0",
   "metadata": {
    "tags": []
   },
   "outputs": [
    {
     "name": "stdout",
     "output_type": "stream",
     "text": [
      "5 primeros textos para la clase 'POP':\n",
      "-   Can't drink without thinkin' about you\n",
      "-   From the way you talk to the way you move\n",
      "-   Something happens when I hold him\n",
      "-   Don't you know that you're bad for me?\n",
      "-   Bones are good, the rest, the rest don't matter (Ooh)\n",
      "\n",
      "5 primeros textos para la clase 'RAP':\n",
      "-   Now Lil Pump flyin' private jet (Yuh)\n",
      "-   No, matter fact, you ain't help me when I had no money\n",
      "-   And you could find me, I ain't hidin'\n",
      "-   Knots (Mops), rocks (Rocks)\n",
      "-   Was expectin' the box to pull up on a truck\n"
     ]
    }
   ],
   "source": [
    "# Muestro los 5 primeros textos registrados para cada uno\n",
    "# de las tipos de música\n",
    "\n",
    "print(\"5 primeros textos para la clase 'POP':\")\n",
    "for texto in pop_textos[:5]:\n",
    "    print(\"-\", \" \", texto)\n",
    "\n",
    "print()\n",
    "print(\"5 primeros textos para la clase 'RAP':\")\n",
    "for texto in rap_textos[:5]:\n",
    "    print(\"-\", \" \", texto)"
   ]
  },
  {
   "cell_type": "markdown",
   "id": "5bba1298-e4cd-451e-bb9c-7b3cdfe3cd73",
   "metadata": {},
   "source": [
    "---\n",
    "\n",
    "<br>\n",
    "<br>"
   ]
  },
  {
   "cell_type": "markdown",
   "id": "971eaa56-3a42-4720-82d9-270e7ef97cd5",
   "metadata": {},
   "source": [
    "### Normalización de tokens\n",
    "\n",
    "Deberemos normalizar todos los registros incluídos en el conjunto de datos. Esto incluye:\n",
    "\n",
    "* Conversión de mayúsculas a minúsculas.\n",
    "* Eliminación del caracteres especiales."
   ]
  },
  {
   "cell_type": "code",
   "execution_count": 6,
   "id": "e3e7a046-7aa5-422a-8685-db56993747e4",
   "metadata": {
    "tags": []
   },
   "outputs": [
    {
     "name": "stdout",
     "output_type": "stream",
     "text": [
      "5 primeros textos de la clase 'POP':\n",
      "Original ==> Can't drink without thinkin' about you\n",
      "Convertido ==> can't drink without thinkin' about you\n",
      "**************************************************\n",
      "\n",
      "5 primeros textos de la clase 'POP':\n",
      "Original ==> From the way you talk to the way you move\n",
      "Convertido ==> from the way you talk to the way you move\n",
      "**************************************************\n",
      "\n",
      "5 primeros textos de la clase 'POP':\n",
      "Original ==> Something happens when I hold him\n",
      "Convertido ==> something happens when i hold him\n",
      "**************************************************\n",
      "\n",
      "5 primeros textos de la clase 'POP':\n",
      "Original ==> Don't you know that you're bad for me?\n",
      "Convertido ==> don't you know that you're bad for me?\n",
      "**************************************************\n",
      "\n",
      "5 primeros textos de la clase 'POP':\n",
      "Original ==> Bones are good, the rest, the rest don't matter (Ooh)\n",
      "Convertido ==> bones are good, the rest, the rest don't matter (ooh)\n",
      "**************************************************\n",
      "\n",
      "\n",
      "\n",
      "\n",
      "5 primeros textos de la clase 'RAP':\n",
      "Original ==> Now Lil Pump flyin' private jet (Yuh)\n",
      "Convertido ==> now lil pump flyin' private jet (yuh)\n",
      "**************************************************\n",
      "\n",
      "5 primeros textos de la clase 'RAP':\n",
      "Original ==> No, matter fact, you ain't help me when I had no money\n",
      "Convertido ==> no, matter fact, you ain't help me when i had no money\n",
      "**************************************************\n",
      "\n",
      "5 primeros textos de la clase 'RAP':\n",
      "Original ==> And you could find me, I ain't hidin'\n",
      "Convertido ==> and you could find me, i ain't hidin'\n",
      "**************************************************\n",
      "\n",
      "5 primeros textos de la clase 'RAP':\n",
      "Original ==> Knots (Mops), rocks (Rocks)\n",
      "Convertido ==> knots (mops), rocks (rocks)\n",
      "**************************************************\n",
      "\n",
      "5 primeros textos de la clase 'RAP':\n",
      "Original ==> Was expectin' the box to pull up on a truck\n",
      "Convertido ==> was expectin' the box to pull up on a truck\n",
      "**************************************************\n",
      "\n"
     ]
    }
   ],
   "source": [
    "# Mostrando un ejemplo de conversión a minúsculas\n",
    "for texto in pop_textos[:5]:\n",
    "    print(\"5 primeros textos de la clase 'POP':\")\n",
    "    print(\"Original ==>\", texto)\n",
    "    print(\"Convertido ==>\", texto.lower())\n",
    "    print(\"*\"*50)\n",
    "    print()\n",
    "    \n",
    "print()\n",
    "print()\n",
    "print()\n",
    "\n",
    "for texto in rap_textos[:5]:\n",
    "    print(\"5 primeros textos de la clase 'RAP':\")\n",
    "    print(\"Original ==>\", texto)\n",
    "    print(\"Convertido ==>\", texto.lower())\n",
    "    print(\"*\"*50)\n",
    "    print()"
   ]
  },
  {
   "cell_type": "code",
   "execution_count": 7,
   "id": "c1cfff4b-5afd-42f9-a9fd-24e966ac6519",
   "metadata": {
    "tags": []
   },
   "outputs": [
    {
     "name": "stdout",
     "output_type": "stream",
     "text": [
      "5 primeros textos de la clase 'POP':\n",
      "Original ==> Can't drink without thinkin' about you\n",
      "Convertido ==> Cant drink without thinkin about you\n",
      "**************************************************\n",
      "\n",
      "5 primeros textos de la clase 'POP':\n",
      "Original ==> From the way you talk to the way you move\n",
      "Convertido ==> From the way you talk to the way you move\n",
      "**************************************************\n",
      "\n",
      "5 primeros textos de la clase 'POP':\n",
      "Original ==> Something happens when I hold him\n",
      "Convertido ==> Something happens when I hold him\n",
      "**************************************************\n",
      "\n",
      "5 primeros textos de la clase 'POP':\n",
      "Original ==> Don't you know that you're bad for me?\n",
      "Convertido ==> Dont you know that youre bad for me\n",
      "**************************************************\n",
      "\n",
      "5 primeros textos de la clase 'POP':\n",
      "Original ==> Bones are good, the rest, the rest don't matter (Ooh)\n",
      "Convertido ==> Bones are good the rest the rest dont matter Ooh\n",
      "**************************************************\n",
      "\n",
      "\n",
      "\n",
      "\n",
      "5 primeros textos de la clase 'RAP':\n",
      "Original ==> Now Lil Pump flyin' private jet (Yuh)\n",
      "Convertido ==> Now Lil Pump flyin private jet Yuh\n",
      "**************************************************\n",
      "\n",
      "5 primeros textos de la clase 'RAP':\n",
      "Original ==> No, matter fact, you ain't help me when I had no money\n",
      "Convertido ==> No matter fact you aint help me when I had no money\n",
      "**************************************************\n",
      "\n",
      "5 primeros textos de la clase 'RAP':\n",
      "Original ==> And you could find me, I ain't hidin'\n",
      "Convertido ==> And you could find me I aint hidin\n",
      "**************************************************\n",
      "\n",
      "5 primeros textos de la clase 'RAP':\n",
      "Original ==> Knots (Mops), rocks (Rocks)\n",
      "Convertido ==> Knots Mops rocks Rocks\n",
      "**************************************************\n",
      "\n",
      "5 primeros textos de la clase 'RAP':\n",
      "Original ==> Was expectin' the box to pull up on a truck\n",
      "Convertido ==> Was expectin the box to pull up on a truck\n",
      "**************************************************\n",
      "\n"
     ]
    }
   ],
   "source": [
    "# Mostrando un ejemplo de eliminación de caracteres especiales\n",
    "for texto in pop_textos[:5]:\n",
    "    print(\"5 primeros textos de la clase 'POP':\")\n",
    "    print(\"Original ==>\", texto)\n",
    "    print(\"Convertido ==>\", texto.translate(str.maketrans(\"\", \"\", string.punctuation)))\n",
    "    print(\"*\"*50)\n",
    "    print()\n",
    "    \n",
    "print()\n",
    "print()\n",
    "print()\n",
    "\n",
    "for texto in rap_textos[:5]:\n",
    "    print(\"5 primeros textos de la clase 'RAP':\")\n",
    "    print(\"Original ==>\", texto)\n",
    "    print(\"Convertido ==>\", texto.translate(str.maketrans(\"\", \"\", string.punctuation)))\n",
    "    print(\"*\"*50)\n",
    "    print()"
   ]
  },
  {
   "cell_type": "code",
   "execution_count": 8,
   "id": "2f122830-09b4-41ab-a38d-9b28c9fc3f35",
   "metadata": {
    "tags": []
   },
   "outputs": [],
   "source": [
    "# Actualizo los textos que tengo aplicando ambos procesos\n",
    "# a la vez\n",
    "\n",
    "# TEXTOS POP\n",
    "pop_textos = [texto.translate(str.maketrans(\"\", \"\", string.punctuation)).lower() for texto in pop_textos]\n",
    "\n",
    "# TEXTOS RAP\n",
    "rap_textos = [texto.translate(str.maketrans(\"\", \"\", string.punctuation)).lower() for texto in rap_textos]"
   ]
  },
  {
   "cell_type": "code",
   "execution_count": 9,
   "id": "079c7b76-984d-4dff-b6bf-760b753245b4",
   "metadata": {
    "tags": []
   },
   "outputs": [
    {
     "name": "stdout",
     "output_type": "stream",
     "text": [
      "5 primeros textos para la clase 'POP':\n",
      "-   cant drink without thinkin about you\n",
      "-   from the way you talk to the way you move\n",
      "-   something happens when i hold him\n",
      "-   dont you know that youre bad for me\n",
      "-   bones are good the rest the rest dont matter ooh\n",
      "\n",
      "5 primeros textos para la clase 'RAP':\n",
      "-   now lil pump flyin private jet yuh\n",
      "-   no matter fact you aint help me when i had no money\n",
      "-   and you could find me i aint hidin\n",
      "-   knots mops rocks rocks\n",
      "-   was expectin the box to pull up on a truck\n"
     ]
    }
   ],
   "source": [
    "# Muestro los 5 primeros textos registrados para cada uno\n",
    "# de las tipos de música, ya normalizados\n",
    "\n",
    "print(\"5 primeros textos para la clase 'POP':\")\n",
    "for texto in pop_textos[:5]:\n",
    "    print(\"-\", \" \", texto)\n",
    "\n",
    "print()\n",
    "print(\"5 primeros textos para la clase 'RAP':\")\n",
    "for texto in rap_textos[:5]:\n",
    "    print(\"-\", \" \", texto)"
   ]
  },
  {
   "cell_type": "markdown",
   "id": "bc3dc18c-99ad-48a5-897f-c521d558565c",
   "metadata": {},
   "source": [
    "---\n",
    "\n",
    "<br>\n",
    "<br>"
   ]
  },
  {
   "cell_type": "markdown",
   "id": "4c52cf41-d1fa-4a27-9734-298324150b22",
   "metadata": {},
   "source": [
    "### Divido el conjunto de datos\n",
    "\n",
    "Sí, se que cuento con un fichero .csv que contiene datos de testing. No obstante, este dataset no registra las etiquetas de cada una de las instancias contenidas, y, en primera instancia, me gustaría poder evaluar el rendimiento del modelo al momento de clasificar los textos, y no lanzar una simple suposición de clasificación al aire."
   ]
  },
  {
   "cell_type": "code",
   "execution_count": 10,
   "id": "8309f856-91d4-4088-9059-ac4dca3b0b0f",
   "metadata": {
    "tags": []
   },
   "outputs": [],
   "source": [
    "# Genero nuevos subsets de \"train\" y \"testing\".\n",
    "\n",
    "X = pop_textos + rap_textos\n",
    "y = pop_etiquetas + rap_etiquetas\n",
    "\n",
    "X_train, X_test, y_train, y_test = train_test_split(X, y, test_size=0.2, random_state=42)"
   ]
  },
  {
   "cell_type": "markdown",
   "id": "3f40fa62-9ed8-409d-87b9-8d848ebb53d1",
   "metadata": {},
   "source": [
    "---\n",
    "\n",
    "<br>\n",
    "<br>"
   ]
  },
  {
   "cell_type": "markdown",
   "id": "7cb0182b-5c78-45b0-a237-799e0291184c",
   "metadata": {},
   "source": [
    "### Indexando cada token del dataset\n",
    "\n",
    "Es necesario crear un diccionario para nuestro modelo, de forma que este pueda servir como referencia para asignar un valor numerico a cada una de las palabras que puedan haber en los diferentes textos."
   ]
  },
  {
   "cell_type": "code",
   "execution_count": 11,
   "id": "c36b2e55-4f01-48a0-ab37-0cbfd3e8d2f2",
   "metadata": {
    "tags": []
   },
   "outputs": [
    {
     "data": {
      "text/plain": [
       "[['headshot', 'soak', 'his', 'mans', 'lil', 'uzi'],\n",
       " ['im', 'in', 'my', 'birkin', 'n', 'yeah'],\n",
       " ['and', 'tonight', 'im', 'alive', 'aint', 'no', 'dollar', 'sign'],\n",
       " ['i',\n",
       "  'even',\n",
       "  'did',\n",
       "  'the',\n",
       "  'unthinkable',\n",
       "  'and',\n",
       "  'im',\n",
       "  'sorry',\n",
       "  'for',\n",
       "  'what',\n",
       "  'i',\n",
       "  'did',\n",
       "  'to',\n",
       "  'you'],\n",
       " ['dont', 'think', 'we', 'fit', 'in', 'at', 'this', 'party']]"
      ]
     },
     "execution_count": 11,
     "metadata": {},
     "output_type": "execute_result"
    }
   ],
   "source": [
    "# Convierto cada uno de los textos del conjunto de\n",
    "# entrenamiento en listas de tokens\n",
    "X_train = [texto.split(\" \") for texto in X_train]\n",
    "\n",
    "# 5 primeros registros de X_train\n",
    "X_train[:5]"
   ]
  },
  {
   "cell_type": "code",
   "execution_count": 12,
   "id": "65369144-188e-4ede-8f04-91edd425f690",
   "metadata": {
    "tags": []
   },
   "outputs": [
    {
     "name": "stdout",
     "output_type": "stream",
     "text": [
      "<unk> ==> 0\n",
      "headshot ==> 1\n",
      "soak ==> 2\n",
      "his ==> 3\n",
      "mans ==> 4\n",
      "lil ==> 5\n",
      "uzi ==> 6\n",
      "im ==> 7\n",
      "in ==> 8\n",
      "my ==> 9\n",
      "birkin ==> 10\n",
      "n ==> 11\n",
      "yeah ==> 12\n",
      "and ==> 13\n",
      "tonight ==> 14\n",
      "alive ==> 15\n",
      "aint ==> 16\n",
      "no ==> 17\n",
      "dollar ==> 18\n",
      "sign ==> 19\n",
      "i ==> 20\n",
      "even ==> 21\n",
      "did ==> 22\n",
      "the ==> 23\n",
      "unthinkable ==> 24\n",
      "sorry ==> 25\n",
      "for ==> 26\n",
      "what ==> 27\n",
      "to ==> 28\n",
      "you ==> 29\n",
      "dont ==> 30\n",
      "think ==> 31\n",
      "we ==> 32\n",
      "fit ==> 33\n",
      "at ==> 34\n",
      "this ==> 35\n",
      "party ==> 36\n",
      "belong ==> 37\n",
      "see ==> 38\n",
      "past ==> 39\n",
      "everywhere ==> 40\n",
      "world ==> 41\n",
      "is ==> 42\n",
      "brighter ==> 43\n",
      "by ==> 44\n",
      "itself ==> 45\n",
      "one ==> 46\n",
      "time ==> 47\n",
      "future ==> 48\n",
      "prince ==> 49\n",
      "eu ==> 50\n",
      "e ==> 51\n",
      "o ==> 52\n",
      "cash ==> 53\n",
      "mais ==> 54\n",
      "sempre ==> 55\n",
      "que ==> 56\n",
      "vou ==> 57\n",
      "recrutar ==> 58\n",
      "novamente ==> 59\n",
      "b ==> 60\n",
      "city ==> 61\n",
      "on ==> 62\n",
      "that ==> 63\n",
      "hot ==> 64\n",
      "s ==> 65\n",
      "blood ==> 66\n",
      "gang ==> 67\n",
      "suwoop ==> 68\n",
      "me ==> 69\n",
      "oh ==> 70\n",
      "fore ==> 71\n",
      "go ==> 72\n",
      "leave ==> 73\n",
      "cold ==> 74\n",
      "take ==> 75\n",
      "it ==> 76\n",
      "easy ==> 77\n",
      "baby ==> 78\n",
      "middle ==> 79\n",
      "of ==> 80\n",
      "summer ==> 81\n",
      "freezin ==> 82\n",
      "burr ==> 83\n",
      "ten ==> 84\n",
      "bad ==> 85\n",
      "bes ==> 86\n",
      "they ==> 87\n",
      "after ==> 88\n",
      "just ==> 89\n",
      "went ==> 90\n",
      "up ==> 91\n",
      "price ==> 92\n",
      "ayy ==> 93\n",
      "maybe ==> 94\n",
      "can ==> 95\n",
      "be ==> 96\n",
      "chill ==> 97\n",
      "tell ==> 98\n",
      "ref ==> 99\n",
      "blow ==> 100\n"
     ]
    }
   ],
   "source": [
    "# Inicializo el diccionario de indices\n",
    "\n",
    "indices_palabras = {\n",
    "    \"<unk>\":0 \n",
    "}\n",
    "\n",
    "contador_indices = 1  # Comienzo en 1, ya existe un 0.\n",
    "for texto in X_train:\n",
    "    for palabra in texto:\n",
    "        if palabra in indices_palabras.keys():\n",
    "            continue\n",
    "        else:\n",
    "            indices_palabras[palabra] = contador_indices\n",
    "            contador_indices +=1\n",
    "            \n",
    "# Muestro los primeros registros del diccionario\n",
    "for index, (key, value) in enumerate(indices_palabras.items()):\n",
    "    print(f\"{key} ==> {value}\")\n",
    "    if index == 100:\n",
    "        break"
   ]
  },
  {
   "cell_type": "code",
   "execution_count": 13,
   "id": "57e9b484-235e-4ffd-ab19-b3e2861d6add",
   "metadata": {
    "tags": []
   },
   "outputs": [
    {
     "data": {
      "text/plain": [
       "13191"
      ]
     },
     "execution_count": 13,
     "metadata": {},
     "output_type": "execute_result"
    }
   ],
   "source": [
    "# Reviso el total de palabras diferentes que se han \n",
    "# registrado en el diccionario\n",
    "len(indices_palabras)"
   ]
  },
  {
   "cell_type": "markdown",
   "id": "e383d33b-e539-4e71-86ff-5b61565e6920",
   "metadata": {},
   "source": [
    "---\n",
    "\n",
    "<br>\n",
    "<br>"
   ]
  },
  {
   "cell_type": "markdown",
   "id": "238e84f4-47f3-4970-aa86-786ac25d3734",
   "metadata": {},
   "source": [
    "### Transformando los subsets de datos\n",
    "\n",
    "Utilizando el diccionario de indices, convierto cada una\n",
    "de las palabras del subconjunto de \"train\" y \"test\" a\n",
    "valores numéricos (su respectivo índice)"
   ]
  },
  {
   "cell_type": "code",
   "execution_count": 14,
   "id": "0907cca1-c4f3-4c22-b070-3a9445734980",
   "metadata": {
    "tags": []
   },
   "outputs": [
    {
     "data": {
      "text/plain": [
       "[['yeah',\n",
       "  'we',\n",
       "  'gon',\n",
       "  'do',\n",
       "  'some',\n",
       "  'things',\n",
       "  'some',\n",
       "  'things',\n",
       "  'you',\n",
       "  'cant',\n",
       "  'relate'],\n",
       " ['at', 'a', 'knocked', 'down', 'price', 'hey'],\n",
       " ['its', 'like', 'd'],\n",
       " ['please', 'dont', 'come', 'after', 'me'],\n",
       " ['come', 'hang', 'come', 'hang', 'lets', 'go', 'out', 'with', 'a', 'bang']]"
      ]
     },
     "execution_count": 14,
     "metadata": {},
     "output_type": "execute_result"
    }
   ],
   "source": [
    "# Antes de nada, convierto en listas de tokens los \n",
    "# registros del subset de testing\n",
    "X_test = [texto.split(\" \") for texto in X_test]\n",
    "\n",
    "# 5 primeros registros de X_test\n",
    "X_test[:5]"
   ]
  },
  {
   "cell_type": "code",
   "execution_count": 15,
   "id": "6b3fb2ed-8eb1-48d8-afde-b7831061b9b7",
   "metadata": {
    "tags": []
   },
   "outputs": [
    {
     "data": {
      "text/plain": [
       "[[1, 2, 3, 4, 5, 6],\n",
       " [7, 8, 9, 10, 11, 12],\n",
       " [13, 14, 7, 15, 16, 17, 18, 19],\n",
       " [20, 21, 22, 23, 24, 13, 7, 25, 26, 27, 20, 22, 28, 29],\n",
       " [30, 31, 32, 33, 8, 34, 35, 36]]"
      ]
     },
     "execution_count": 15,
     "metadata": {},
     "output_type": "execute_result"
    }
   ],
   "source": [
    "## ASIGNANDO INDICES A SUBSET TRAIN\n",
    "X_train_num = []\n",
    "\n",
    "for texto in X_train:\n",
    "    texto = [indices_palabras[token] for token in texto]\n",
    "    X_train_num.append(texto)\n",
    "    \n",
    "# Primeros 5 registros de X_train_num\n",
    "X_train_num[:5]"
   ]
  },
  {
   "cell_type": "code",
   "execution_count": 16,
   "id": "dc999018-3236-4f0b-b28a-1c6db1d06c1d",
   "metadata": {
    "tags": []
   },
   "outputs": [
    {
     "data": {
      "text/plain": [
       "[[12, 32, 206, 223, 291, 389, 291, 389, 29, 120, 2595],\n",
       " [34, 118, 3507, 189, 92, 184],\n",
       " [203, 313, 539],\n",
       " [628, 30, 193, 88, 69],\n",
       " [193, 284, 193, 284, 543, 72, 150, 104, 118, 282]]"
      ]
     },
     "execution_count": 16,
     "metadata": {},
     "output_type": "execute_result"
    }
   ],
   "source": [
    "## ASIGNANDO INDICES A SUBSET TESTING\n",
    "X_test_num = []\n",
    "\n",
    "for texto in X_test:\n",
    "    texto = [indices_palabras.get(token, 0) for token in texto]\n",
    "    X_test_num.append(texto)\n",
    "    \n",
    "# Primeros 5 registros de X_train_num\n",
    "X_test_num[:5]"
   ]
  },
  {
   "cell_type": "markdown",
   "id": "3cf42ecc-3bfc-4de8-b161-2be8ba5705b0",
   "metadata": {},
   "source": [
    "Para el conjunto de testing, he utilizado el método .get() de los diccionarios en Python para, en caso de no encontrar el indice de una determinada palabra, asignar el valor 0. Esto indicaría que dicha palabra no se encuentra dentro de los textos del subconjunto de \"train\"."
   ]
  },
  {
   "cell_type": "markdown",
   "id": "2a6013ed-b6a1-4da9-b756-43a1c16207b7",
   "metadata": {},
   "source": [
    "---\n",
    "\n",
    "<br>\n",
    "<br>"
   ]
  },
  {
   "cell_type": "markdown",
   "id": "7e3a58a8-20b9-419d-99cf-5651334b9933",
   "metadata": {},
   "source": [
    "### Matrices transición y vectores probabilidad"
   ]
  },
  {
   "cell_type": "code",
   "execution_count": 17,
   "id": "a9338afc-3aec-4174-84c3-45b19df73ab8",
   "metadata": {
    "tags": []
   },
   "outputs": [],
   "source": [
    "# Clase POP\n",
    "\n",
    "pop_mt = np.ones((len(indices_palabras), len(indices_palabras)))\n",
    "pop_vp = np.ones(len(indices_palabras))\n",
    "\n",
    "\n",
    "# Clase RAP\n",
    "\n",
    "rap_mt = np.ones((len(indices_palabras), len(indices_palabras)))\n",
    "rap_vp = np.ones(len(indices_palabras))"
   ]
  },
  {
   "cell_type": "code",
   "execution_count": 18,
   "id": "146bccce-c1c0-46a3-895e-2dbcf7a088ae",
   "metadata": {
    "tags": []
   },
   "outputs": [
    {
     "name": "stdout",
     "output_type": "stream",
     "text": [
      "Dimensiones matriz transicion para la clase 'POP' ==> (13191, 13191)\n"
     ]
    }
   ],
   "source": [
    "print(\"Dimensiones matriz transicion para la clase 'POP' ==>\", pop_mt.shape)"
   ]
  },
  {
   "cell_type": "code",
   "execution_count": 19,
   "id": "0b68d98d-0a76-4511-a0d5-e3fdc6d92220",
   "metadata": {
    "tags": []
   },
   "outputs": [
    {
     "name": "stdout",
     "output_type": "stream",
     "text": [
      "Dimensiones vector probabilidad para la clase 'POP' ==> (13191,)\n"
     ]
    }
   ],
   "source": [
    "print(\"Dimensiones vector probabilidad para la clase 'POP' ==>\", pop_vp.shape)"
   ]
  },
  {
   "cell_type": "code",
   "execution_count": 20,
   "id": "05f41fb4-978f-448c-8ebc-8f5234cb2163",
   "metadata": {
    "tags": []
   },
   "outputs": [
    {
     "name": "stdout",
     "output_type": "stream",
     "text": [
      "Dimensiones matriz transicion para la clase 'RAP' ==> (13191, 13191)\n"
     ]
    }
   ],
   "source": [
    "print(\"Dimensiones matriz transicion para la clase 'RAP' ==>\", rap_mt.shape)"
   ]
  },
  {
   "cell_type": "code",
   "execution_count": 21,
   "id": "b19a5cee-5ceb-40b4-b7e7-58b571d4e9b3",
   "metadata": {
    "tags": []
   },
   "outputs": [
    {
     "name": "stdout",
     "output_type": "stream",
     "text": [
      "Dimensiones vector probabilidad para la clase 'RAP' ==> (13191,)\n"
     ]
    }
   ],
   "source": [
    "print(\"Dimensiones vector probabilidad para la clase 'RAP' ==>\", rap_vp.shape)"
   ]
  },
  {
   "cell_type": "markdown",
   "id": "6fbcb6d0-72e6-4140-8751-94cc6a709a78",
   "metadata": {},
   "source": [
    "---\n",
    "\n",
    "<br>\n",
    "<br>"
   ]
  },
  {
   "cell_type": "markdown",
   "id": "d0dc83cc-b0f8-4770-a9e2-b1f2f2072962",
   "metadata": {},
   "source": [
    "### Computando la probabilidad de aparición de cada token"
   ]
  },
  {
   "cell_type": "code",
   "execution_count": 22,
   "id": "d6b1c76b-c959-4383-9d92-9d85ea384215",
   "metadata": {
    "tags": []
   },
   "outputs": [],
   "source": [
    "def compute_counts(text_as_int, matriz_transicion, vector_probabilidad):\n",
    "    \n",
    "    \"\"\"Función auxiliar encargada de computar el conteo de apariciones de cada token del\n",
    "       diccionario de tokends dentro de la matriz de transicion de cada clase.\"\"\"\n",
    "    \n",
    "    for texto in text_as_int:\n",
    "        ini_idx = None\n",
    "        for idx in texto:\n",
    "            if ini_idx == None:\n",
    "                vector_probabilidad[idx] +=1\n",
    "            else:\n",
    "                matriz_transicion[ini_idx, idx] += 1\n",
    "            ini_idx = idx\n",
    "            \n",
    "# Clase POP\n",
    "compute_counts([token for token, indice in zip(X_train_num, y_train) if indice == 1], pop_mt, pop_vp)\n",
    "\n",
    "# Clase RAP\n",
    "compute_counts([token for token, indice in zip(X_train_num, y_train) if indice == 0], rap_mt, rap_vp)"
   ]
  },
  {
   "cell_type": "markdown",
   "id": "b110c8b2-708e-4e56-aedb-ce4be0dbbc64",
   "metadata": {},
   "source": [
    "---\n",
    "\n",
    "<br>\n",
    "<br>"
   ]
  },
  {
   "cell_type": "markdown",
   "id": "028672b2-a217-4180-9740-7e69c1ebdca0",
   "metadata": {},
   "source": [
    "### Normalizando matrices y vectores de transicion\n",
    "\n",
    "Actualmente, los valores computados la matriz de transicion y el vector de probabilidad de cada una de las clases de música son muy cercanos a 0.\n",
    "\n",
    "Si los normalizados, podremos hacer uso de unos valores que facilitan la computación del clasificador."
   ]
  },
  {
   "cell_type": "code",
   "execution_count": 23,
   "id": "0a878edc-e6c8-44e0-b6f1-660d2cd8751e",
   "metadata": {
    "tags": []
   },
   "outputs": [],
   "source": [
    "## Clase \"POP\"\n",
    "pop_mt /= pop_mt.sum(axis = 1, keepdims = True)\n",
    "pop_vp /= pop_vp.sum()\n",
    "\n",
    "## Clase \"RAP\"\n",
    "rap_mt /= rap_mt.sum(axis = 1, keepdims = True)\n",
    "rap_vp /= rap_vp.sum()"
   ]
  },
  {
   "cell_type": "code",
   "execution_count": 24,
   "id": "2e0a83f2-ffdd-4d34-a405-5cfd89aa5432",
   "metadata": {
    "tags": []
   },
   "outputs": [
    {
     "data": {
      "text/plain": [
       "array([3.22976552e-05, 3.22976552e-05, 3.22976552e-05, ...,\n",
       "       3.22976552e-05, 3.22976552e-05, 3.22976552e-05])"
      ]
     },
     "execution_count": 24,
     "metadata": {},
     "output_type": "execute_result"
    }
   ],
   "source": [
    "pop_vp"
   ]
  },
  {
   "cell_type": "code",
   "execution_count": 25,
   "id": "47a68b86-bd67-4e72-8ca7-1171a0be64da",
   "metadata": {
    "tags": []
   },
   "outputs": [],
   "source": [
    "## Uso de un espacio logaritmico para obtener valores\n",
    "## más elevados\n",
    "\n",
    "# Clase \"POP\"\n",
    "pop_mt = np.log(pop_mt)\n",
    "pop_vp = np.log(pop_vp)\n",
    "\n",
    "# Clase \"RAP\"\n",
    "rap_mt = np.log(rap_mt)\n",
    "rap_vp = np.log(rap_vp)"
   ]
  },
  {
   "cell_type": "code",
   "execution_count": 26,
   "id": "508c9384-2622-44c9-89cd-16bf648f336c",
   "metadata": {
    "tags": []
   },
   "outputs": [
    {
     "data": {
      "text/plain": [
       "array([-10.34051593, -10.34051593, -10.34051593, ..., -10.34051593,\n",
       "       -10.34051593, -10.34051593])"
      ]
     },
     "execution_count": 26,
     "metadata": {},
     "output_type": "execute_result"
    }
   ],
   "source": [
    "pop_vp"
   ]
  },
  {
   "cell_type": "code",
   "execution_count": 27,
   "id": "64567b7a-a130-4d10-b164-7caf49aa7cd5",
   "metadata": {
    "tags": []
   },
   "outputs": [
    {
     "data": {
      "text/plain": [
       "array([-10.49855322,  -8.41911168, -10.49855322, ..., -10.49855322,\n",
       "       -10.49855322, -10.49855322])"
      ]
     },
     "execution_count": 27,
     "metadata": {},
     "output_type": "execute_result"
    }
   ],
   "source": [
    "rap_vp"
   ]
  },
  {
   "cell_type": "markdown",
   "id": "564f4d3f-b23d-4f14-a221-57c3f173d53d",
   "metadata": {},
   "source": [
    "---\n",
    "\n",
    "<br>\n",
    "<br>"
   ]
  },
  {
   "cell_type": "markdown",
   "id": "9f2b3170-ee48-4046-8de7-e1d617a7ffd8",
   "metadata": {},
   "source": [
    "### Probabilidades a priori de cada tipo de música"
   ]
  },
  {
   "cell_type": "code",
   "execution_count": 28,
   "id": "a360cb3d-d0f3-4eee-b63d-dc2a448066cc",
   "metadata": {
    "tags": []
   },
   "outputs": [
    {
     "name": "stdout",
     "output_type": "stream",
     "text": [
      "Probabilidad a priori Clase 'POP' ==> 0.4351051587787381\n",
      "Probabilidad a priori Clase 'RAP' ==> 0.5648948412212619\n"
     ]
    }
   ],
   "source": [
    "count_pop = sum(y == 1 for y in y_train)\n",
    "count_rap = sum(y == 0 for y in y_train)\n",
    "total = len(y_train)\n",
    "p1 = count_pop / total   # Probabilidad a priori del tipo \"POP\"\n",
    "p0 = count_rap / total   # Probabilidad a priori del tipo \"RAP\"\n",
    "logp1 = np.log(p1)   # Logaritmo de la probabilidad a priori de la clase \"POP\"\n",
    "logp0 = np.log(p0)   # Logaritmo de la probabilidad a priori de la clase \"RAP\"\n",
    "\n",
    "print(\"Probabilidad a priori Clase 'POP' ==>\", p1)\n",
    "print(\"Probabilidad a priori Clase 'RAP' ==>\", p0)"
   ]
  },
  {
   "cell_type": "markdown",
   "id": "016d1ad5-b164-4dbb-afc5-b80625d5b9a4",
   "metadata": {},
   "source": [
    "---\n",
    "\n",
    "<br>\n",
    "<br>"
   ]
  },
  {
   "cell_type": "markdown",
   "id": "f2edba14-996c-45ad-be94-ea736a9d3f36",
   "metadata": {},
   "source": [
    "### Construcción del clasificador \n",
    "\n",
    "Como he mencionado al principio del notebook, el clasificador que voy a utilizar para el objetivo de clasificar canciones de pop/rap, va a ser ser un objeto de la clase TextClassifier que defino en la siguiente celda."
   ]
  },
  {
   "cell_type": "code",
   "execution_count": 29,
   "id": "c0ded81c-03b4-4048-8f3f-020ba8302c06",
   "metadata": {
    "tags": []
   },
   "outputs": [],
   "source": [
    "class TextClassifier:\n",
    "    def __init__(self, logAs, logpis, logpriors):\n",
    "        self.logAs = logAs\n",
    "        self.logpis = logpis\n",
    "        self.logpriors = logpriors\n",
    "        self.K = len(logpriors)\n",
    "        \n",
    "    def _compute_log_likelihood(self, input_, class_):\n",
    "        logA = self.logAs[class_]\n",
    "        logpi = self.logpis[class_]\n",
    "        \n",
    "        last_idx = None\n",
    "        logprob = 0\n",
    "        for idx in input_:\n",
    "            if last_idx is None:\n",
    "                logprob += logpi[idx]\n",
    "            else:\n",
    "                logprob += logA[last_idx, idx]\n",
    "                \n",
    "            last_idx = idx\n",
    "            \n",
    "        return logprob\n",
    "    \n",
    "    def predict(self, inputs):\n",
    "        predictions = np.zeros(len(inputs))\n",
    "        for i, input_ in enumerate(inputs):\n",
    "            \n",
    "            posteriors = [self._compute_log_likelihood(input_, c) + self.logpriors[c] \\\n",
    "                          for c in range(self.K)]\n",
    "            \n",
    "            pred = np.argmax(posteriors)\n",
    "            predictions[i] = pred\n",
    "        return predictions"
   ]
  },
  {
   "cell_type": "code",
   "execution_count": 30,
   "id": "4ca17c64-64e7-4e99-8fe8-6dc523140a24",
   "metadata": {
    "tags": []
   },
   "outputs": [],
   "source": [
    "# Instancio un objeto de la clase TextClassifier\n",
    "clf = TextClassifier([rap_mt, pop_mt], [rap_vp, pop_vp], [logp0, logp1])"
   ]
  },
  {
   "cell_type": "code",
   "execution_count": 31,
   "id": "d5b340a1-3fd5-4ee2-861a-c40e7f3784f0",
   "metadata": {
    "tags": []
   },
   "outputs": [
    {
     "name": "stdout",
     "output_type": "stream",
     "text": [
      "0.9420463726954436\n"
     ]
    }
   ],
   "source": [
    "# Genero las predicciones del modelo (probando con el conjunto de entrenamiento)\n",
    "pTrain = clf.predict(X_train_num)\n",
    "print(np.mean(pTrain == y_train))"
   ]
  },
  {
   "cell_type": "code",
   "execution_count": 32,
   "id": "c8aae30f-d96e-4c53-9fef-6117cd56ed74",
   "metadata": {
    "tags": []
   },
   "outputs": [
    {
     "name": "stdout",
     "output_type": "stream",
     "text": [
      "0.8483008520223289\n"
     ]
    }
   ],
   "source": [
    "# Genero las predicciones del modelo (conjunto de \"testing\")\n",
    "ptest = clf.predict(X_test_num)\n",
    "print(np.mean(ptest == y_test))"
   ]
  },
  {
   "cell_type": "markdown",
   "id": "499f7191-f94b-4b14-bd7f-122ee1e989a7",
   "metadata": {},
   "source": [
    "---\n",
    "\n",
    "<br>\n",
    "<br>"
   ]
  },
  {
   "cell_type": "markdown",
   "id": "8ea08479-ab99-4c25-b17a-d85ddcd37b89",
   "metadata": {},
   "source": [
    "### Pruebo con una frase de una canción de rap"
   ]
  },
  {
   "cell_type": "code",
   "execution_count": 33,
   "id": "1f73d5af-223e-4165-a517-b2c74f1732ad",
   "metadata": {
    "tags": []
   },
   "outputs": [],
   "source": [
    "# Frase con la que pruebo el clasificador\n",
    "nuevo_texto = \"It's time to put these bitches in the obituary column\"   # Eminem, \"Godzilla\"\n",
    "\n",
    "# Proceso el texto\n",
    "nuevo_texto = nuevo_texto.translate(str.maketrans(\"\", \"\", string.punctuation)).lower()\n",
    "\n",
    "# Convierto el texto en una lista de tokens\n",
    "nuevo_texto = nuevo_texto.split(\" \")\n",
    "\n",
    "# Convierto los tokens de la lista en valores numericos (diccionario)\n",
    "nuevo_texto = [indices_palabras.get(token, 0) for token in nuevo_texto]"
   ]
  },
  {
   "cell_type": "code",
   "execution_count": 34,
   "id": "cbbad49e-f9fe-4fa7-acb2-df0e3091e9bb",
   "metadata": {
    "tags": []
   },
   "outputs": [
    {
     "data": {
      "text/plain": [
       "[203, 47, 28, 505, 650, 0, 8, 23, 0, 0]"
      ]
     },
     "execution_count": 34,
     "metadata": {},
     "output_type": "execute_result"
    }
   ],
   "source": [
    "# Muestro el array de valores numericos que representa la frase (valor para aquellas palabras que no se encuentran en el diccionario)\n",
    "nuevo_texto"
   ]
  },
  {
   "cell_type": "code",
   "execution_count": 35,
   "id": "dd6936a4-6726-4764-b770-be30032fd875",
   "metadata": {
    "tags": []
   },
   "outputs": [],
   "source": [
    "clase_nuevo_texto = clf.predict([nuevo_texto])"
   ]
  },
  {
   "cell_type": "code",
   "execution_count": 36,
   "id": "d7a41d25-1d01-4845-a14d-2618a905dd2c",
   "metadata": {
    "tags": []
   },
   "outputs": [
    {
     "data": {
      "text/plain": [
       "array([0.])"
      ]
     },
     "execution_count": 36,
     "metadata": {},
     "output_type": "execute_result"
    }
   ],
   "source": [
    "clase_nuevo_texto"
   ]
  },
  {
   "cell_type": "markdown",
   "id": "1f64234a-f9bf-405b-ba47-425102815c10",
   "metadata": {
    "tags": []
   },
   "source": [
    "---\n",
    "\n",
    "<br>\n",
    "<br>"
   ]
  },
  {
   "cell_type": "markdown",
   "id": "994ad8c6-8ec6-49bd-b8ea-3a6d7e4f602e",
   "metadata": {},
   "source": [
    "# Conclusión\n",
    "\n",
    "El modelo ha mostrado un rendimiento cercano al 85% de precisión para el conjunto de prueba, lo cual está muy bien.\n",
    "\n",
    "Por otro lado, he probado a pasarle una frase que dice el rapero Eminem en su tema \"Godzilla\", una vez la he procesado. El modelo ha clasificado correctamente esta letra como propia de un tema de rap."
   ]
  },
  {
   "cell_type": "markdown",
   "id": "b3f1ced0-d876-446c-b091-1ade98ea3c64",
   "metadata": {
    "tags": []
   },
   "source": [
    "---"
   ]
  },
  {
   "cell_type": "markdown",
   "id": "23081636-dd63-4c17-ad57-e39219a96876",
   "metadata": {},
   "source": [
    "# Generando el resultados para el conjunto de prueba\n",
    "\n",
    "El objetivo del desarrollo del clasificador es el de, tras haberlo entrenado, generar predicciones para el conjunto de datos contenido en la ruta \"data/test.csv\". Debido a que este conjunto no cuenta con las etiquetas correctas de cada instancia, solamente llevaré a cabo el siguiente procedimiento:\n",
    "\n",
    "* Cargo en memoria el conjunto de testing.\n",
    "* Proceso y normalizo el conjunto.\n",
    "* Convierto el conjunto a valores numericos.\n",
    "* Genero predicciones para cada una de las instancias del conjunto de testing.\n",
    "* Creo y guardo en la ruta \"results/\" un fichero .csv con los resultados de las predicciones."
   ]
  },
  {
   "cell_type": "markdown",
   "id": "c78695e9-b768-4051-9d9d-a5440b23d909",
   "metadata": {},
   "source": [
    "---\n",
    "\n",
    "<br>\n",
    "<br>"
   ]
  },
  {
   "cell_type": "markdown",
   "id": "33d8829f-6e15-4708-8e1f-5f302f7a94c3",
   "metadata": {},
   "source": [
    "### Cargando en memoria el conjunto de testing"
   ]
  },
  {
   "cell_type": "code",
   "execution_count": 37,
   "id": "48a93f7f-736a-4d8a-8a69-54465deae058",
   "metadata": {
    "tags": []
   },
   "outputs": [
    {
     "data": {
      "text/html": [
       "<div>\n",
       "<style scoped>\n",
       "    .dataframe tbody tr th:only-of-type {\n",
       "        vertical-align: middle;\n",
       "    }\n",
       "\n",
       "    .dataframe tbody tr th {\n",
       "        vertical-align: top;\n",
       "    }\n",
       "\n",
       "    .dataframe thead th {\n",
       "        text-align: right;\n",
       "    }\n",
       "</style>\n",
       "<table border=\"1\" class=\"dataframe\">\n",
       "  <thead>\n",
       "    <tr style=\"text-align: right;\">\n",
       "      <th></th>\n",
       "      <th>id</th>\n",
       "      <th>lyric</th>\n",
       "    </tr>\n",
       "  </thead>\n",
       "  <tbody>\n",
       "    <tr>\n",
       "      <th>0</th>\n",
       "      <td>0</td>\n",
       "      <td>Now they know my name wherever I go</td>\n",
       "    </tr>\n",
       "    <tr>\n",
       "      <th>1</th>\n",
       "      <td>1</td>\n",
       "      <td>If your girl don't get it poppin', put me on y...</td>\n",
       "    </tr>\n",
       "    <tr>\n",
       "      <th>2</th>\n",
       "      <td>2</td>\n",
       "      <td>P1 cleaner than your church shoes, ah</td>\n",
       "    </tr>\n",
       "    <tr>\n",
       "      <th>3</th>\n",
       "      <td>3</td>\n",
       "      <td>Bodies start to drop, ayy (Hit the floor)</td>\n",
       "    </tr>\n",
       "    <tr>\n",
       "      <th>4</th>\n",
       "      <td>4</td>\n",
       "      <td>I don't look to the sky no mo'</td>\n",
       "    </tr>\n",
       "  </tbody>\n",
       "</table>\n",
       "</div>"
      ],
      "text/plain": [
       "   id                                              lyric\n",
       "0   0                Now they know my name wherever I go\n",
       "1   1  If your girl don't get it poppin', put me on y...\n",
       "2   2              P1 cleaner than your church shoes, ah\n",
       "3   3          Bodies start to drop, ayy (Hit the floor)\n",
       "4   4                     I don't look to the sky no mo'"
      ]
     },
     "execution_count": 37,
     "metadata": {},
     "output_type": "execute_result"
    }
   ],
   "source": [
    "test_path = \"data/test.csv\"\n",
    "test_df = pd.read_csv(test_path, low_memory = False)\n",
    "\n",
    "# Primeros 5 registros del conjunto\n",
    "test_df.head()"
   ]
  },
  {
   "cell_type": "markdown",
   "id": "8bf88170-9393-4da4-976b-878fed725293",
   "metadata": {},
   "source": [
    "### Procesando y normalizando el conjunto"
   ]
  },
  {
   "cell_type": "code",
   "execution_count": 38,
   "id": "56892f49-fdf4-49fe-b84e-a1ee0624024d",
   "metadata": {
    "tags": []
   },
   "outputs": [
    {
     "data": {
      "text/plain": [
       "[['now', 'they', 'know', 'my', 'name', 'wherever', 'i', 'go'],\n",
       " ['if',\n",
       "  'your',\n",
       "  'girl',\n",
       "  'dont',\n",
       "  'get',\n",
       "  'it',\n",
       "  'poppin',\n",
       "  'put',\n",
       "  'me',\n",
       "  'on',\n",
       "  'your',\n",
       "  'wishlist'],\n",
       " ['p1', 'cleaner', 'than', 'your', 'church', 'shoes', 'ah'],\n",
       " ['bodies', 'start', 'to', 'drop', 'ayy', 'hit', 'the', 'floor'],\n",
       " ['i', 'dont', 'look', 'to', 'the', 'sky', 'no', 'mo']]"
      ]
     },
     "execution_count": 38,
     "metadata": {},
     "output_type": "execute_result"
    }
   ],
   "source": [
    "## Defino mi matriz de caracteristicas (al solo ser una columna, es un vector)\n",
    "X = test_df[\"lyric\"].values\n",
    "\n",
    "## Normalizando los registros\n",
    "X = [texto.translate(str.maketrans(\"\", \"\", string.punctuation)).lower() for texto in X]\n",
    "\n",
    "# Convierto cada registro del conjunto en una lista de tokens\n",
    "X = [texto.split(\" \") for texto in X]\n",
    "\n",
    "# 5 primeros registros del conjunto\n",
    "X[:5]"
   ]
  },
  {
   "cell_type": "markdown",
   "id": "980582ec-8c0c-4684-8c69-89265ea80cae",
   "metadata": {},
   "source": [
    "### Convirtiendo el conjunto a valores numericos"
   ]
  },
  {
   "cell_type": "code",
   "execution_count": 39,
   "id": "7d40fad5-553d-47d3-b619-0039d503c0c4",
   "metadata": {
    "tags": []
   },
   "outputs": [
    {
     "data": {
      "text/plain": [
       "[[233, 87, 113, 9, 123, 2650, 20, 72],\n",
       " [117, 154, 669, 30, 280, 76, 2649, 505, 69, 62, 154, 0],\n",
       " [0, 0, 600, 154, 3114, 2662, 473],\n",
       " [3810, 854, 28, 601, 93, 119, 23, 833],\n",
       " [20, 30, 703, 28, 23, 1890, 17, 5885]]"
      ]
     },
     "execution_count": 39,
     "metadata": {},
     "output_type": "execute_result"
    }
   ],
   "source": [
    "X_num = []\n",
    "for texto in X:\n",
    "    X_num.append([indices_palabras.get(token, 0) for token in texto])\n",
    "    \n",
    "# 5 primeros registros del dataset de testing, ahora en valores numericos\n",
    "X_num[:5]"
   ]
  },
  {
   "cell_type": "markdown",
   "id": "4510a306-7666-4df9-a16a-b373108dc070",
   "metadata": {},
   "source": [
    "### Generando predicciones para cada una de las instancias del conjunto de testing"
   ]
  },
  {
   "cell_type": "code",
   "execution_count": 40,
   "id": "7ccbae80-d8ee-4b66-9980-519b81db208a",
   "metadata": {
    "tags": []
   },
   "outputs": [
    {
     "data": {
      "text/plain": [
       "array([0., 0., 1., 0., 0., 1., 0., 0., 1., 0., 1., 1., 0., 0., 0., 0., 0.,\n",
       "       0., 1., 0., 0., 0., 0., 0., 0., 0., 1., 1., 0., 1., 0., 1., 0., 1.,\n",
       "       1., 0., 1., 0., 1., 0., 1., 0., 0., 0., 0., 1., 0., 0., 1., 1.])"
      ]
     },
     "execution_count": 40,
     "metadata": {},
     "output_type": "execute_result"
    }
   ],
   "source": [
    "# Predicciones del modelo\n",
    "predicciones = clf.predict(X_num)\n",
    "\n",
    "# Muestro las 5 primeras predicciones del modelo\n",
    "predicciones[:50]"
   ]
  },
  {
   "cell_type": "markdown",
   "id": "aebf2c65-1974-4b76-ac7b-1c42a2c2232c",
   "metadata": {},
   "source": [
    "### Creo y guardo en la ruta \"results/\" un fichero .csv con los resultados de las predicciones"
   ]
  },
  {
   "cell_type": "code",
   "execution_count": 57,
   "id": "002c4b42-adc3-45e6-b38e-aafe6937b8bf",
   "metadata": {
    "tags": []
   },
   "outputs": [
    {
     "data": {
      "text/html": [
       "<div>\n",
       "<style scoped>\n",
       "    .dataframe tbody tr th:only-of-type {\n",
       "        vertical-align: middle;\n",
       "    }\n",
       "\n",
       "    .dataframe tbody tr th {\n",
       "        vertical-align: top;\n",
       "    }\n",
       "\n",
       "    .dataframe thead th {\n",
       "        text-align: right;\n",
       "    }\n",
       "</style>\n",
       "<table border=\"1\" class=\"dataframe\">\n",
       "  <thead>\n",
       "    <tr style=\"text-align: right;\">\n",
       "      <th></th>\n",
       "      <th>id</th>\n",
       "      <th>class</th>\n",
       "    </tr>\n",
       "  </thead>\n",
       "  <tbody>\n",
       "    <tr>\n",
       "      <th>0</th>\n",
       "      <td>0</td>\n",
       "      <td>0</td>\n",
       "    </tr>\n",
       "    <tr>\n",
       "      <th>1</th>\n",
       "      <td>1</td>\n",
       "      <td>0</td>\n",
       "    </tr>\n",
       "    <tr>\n",
       "      <th>2</th>\n",
       "      <td>2</td>\n",
       "      <td>1</td>\n",
       "    </tr>\n",
       "    <tr>\n",
       "      <th>3</th>\n",
       "      <td>3</td>\n",
       "      <td>0</td>\n",
       "    </tr>\n",
       "    <tr>\n",
       "      <th>4</th>\n",
       "      <td>4</td>\n",
       "      <td>0</td>\n",
       "    </tr>\n",
       "    <tr>\n",
       "      <th>5</th>\n",
       "      <td>5</td>\n",
       "      <td>1</td>\n",
       "    </tr>\n",
       "    <tr>\n",
       "      <th>6</th>\n",
       "      <td>6</td>\n",
       "      <td>0</td>\n",
       "    </tr>\n",
       "    <tr>\n",
       "      <th>7</th>\n",
       "      <td>7</td>\n",
       "      <td>0</td>\n",
       "    </tr>\n",
       "    <tr>\n",
       "      <th>8</th>\n",
       "      <td>8</td>\n",
       "      <td>1</td>\n",
       "    </tr>\n",
       "    <tr>\n",
       "      <th>9</th>\n",
       "      <td>9</td>\n",
       "      <td>0</td>\n",
       "    </tr>\n",
       "  </tbody>\n",
       "</table>\n",
       "</div>"
      ],
      "text/plain": [
       "   id  class\n",
       "0   0      0\n",
       "1   1      0\n",
       "2   2      1\n",
       "3   3      0\n",
       "4   4      0\n",
       "5   5      1\n",
       "6   6      0\n",
       "7   7      0\n",
       "8   8      1\n",
       "9   9      0"
      ]
     },
     "execution_count": 57,
     "metadata": {},
     "output_type": "execute_result"
    }
   ],
   "source": [
    "# Defino las listas de ID, y de predicciones para cada uno de ellos\n",
    "indices_registros = [num for num in range(0, (len(test_df)))]\n",
    "lista_predicciones = [int(pred) for pred in predicciones]\n",
    "\n",
    "\n",
    "# Creo un objeto DataFrame con que mapee cada prediccion con el ID de su registro\n",
    "# en el conjunto de testing\n",
    "pred_df = pd.DataFrame(data = indices_registros,\n",
    "                       columns = [\"id\"])\n",
    "\n",
    "# Añado la columna con las predicciones\n",
    "pred_df[\"class\"] = lista_predicciones\n",
    "\n",
    "# 10 primeros registros del DataFrame\n",
    "pred_df.head(10)"
   ]
  },
  {
   "cell_type": "code",
   "execution_count": 58,
   "id": "09ef728e-577d-45bd-bfdb-9ea226dde70e",
   "metadata": {
    "tags": []
   },
   "outputs": [
    {
     "name": "stdout",
     "output_type": "stream",
     "text": [
      "Resultados guardados correctamente.\n"
     ]
    }
   ],
   "source": [
    "# Defino la ruta donde almaceno las predicciones\n",
    "results_path = \"results/\"\n",
    "\n",
    "pred_df.to_csv(os.path.join(results_path, \"results.csv\"), index = False)\n",
    "print(\"Resultados guardados correctamente.\")"
   ]
  }
 ],
 "metadata": {
  "kernelspec": {
   "display_name": "Python 3 (ipykernel)",
   "language": "python",
   "name": "python3"
  },
  "language_info": {
   "codemirror_mode": {
    "name": "ipython",
    "version": 3
   },
   "file_extension": ".py",
   "mimetype": "text/x-python",
   "name": "python",
   "nbconvert_exporter": "python",
   "pygments_lexer": "ipython3",
   "version": "3.11.5"
  }
 },
 "nbformat": 4,
 "nbformat_minor": 5
}
