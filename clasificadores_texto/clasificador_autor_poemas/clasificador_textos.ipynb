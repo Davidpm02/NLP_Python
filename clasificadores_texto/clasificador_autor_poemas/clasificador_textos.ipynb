{
 "cells": [
  {
   "cell_type": "markdown",
   "id": "b0f554e5-0abb-4cac-917b-7c76251b2b6f",
   "metadata": {},
   "source": [
    "# Objetivo del notebook\n",
    "\n",
    "Este Jupyter Notebook tiene como objetivo principal la construcción de un software clasificador de texto, a partir de dos ficheros .txt de entrada.\n",
    "\n",
    "El clasificador que voy a construir está, por tanto, limitado a las etiquetas para las que este será entrenado (el modelo deberá aprender a clasificar texto de dos famosos poetas, Neruda y Benedetti).\n",
    "\n",
    "Voy a llevar a cabo el desarrollo del clasificador mediante el uso de estructuras de Python. Para llevar a cabo la división de los datos, haré uso de SkLearn."
   ]
  },
  {
   "cell_type": "markdown",
   "id": "35f09318-9430-4312-ab86-f50b3b010b1f",
   "metadata": {},
   "source": [
    "# Importar las librerías a utilizar\n",
    "\n",
    "La siguiente celda reune todas las librerías que utilizo en este fichero Jupyter Notebook."
   ]
  },
  {
   "cell_type": "code",
   "execution_count": 1,
   "id": "ffedd62c-3bcb-4784-a297-f4d34fb5dd5c",
   "metadata": {
    "tags": []
   },
   "outputs": [],
   "source": [
    "# Librerías de manupulación de datos\n",
    "import numpy as np\n",
    "\n",
    "# SkLearn\n",
    "from sklearn.model_selection import train_test_split\n",
    "\n",
    "# Visualización de datos\n",
    "import matplotlib.pyplot as plt\n",
    "\n",
    "# Otros\n",
    "import os\n",
    "import string"
   ]
  },
  {
   "cell_type": "markdown",
   "id": "bea86949-7c2d-4c80-94e3-01d85136b6ac",
   "metadata": {},
   "source": [
    "# Cargando el conjunto de datos en memoria"
   ]
  },
  {
   "cell_type": "code",
   "execution_count": 2,
   "id": "d8600a11-f09c-488a-b895-6789b6fd3602",
   "metadata": {
    "tags": []
   },
   "outputs": [],
   "source": [
    "archivos = [\"Benedetti.txt\",\n",
    "            \"Neruda.txt\"]"
   ]
  },
  {
   "cell_type": "code",
   "execution_count": 11,
   "id": "b8bde136-20c6-419f-b34b-54c94a848a63",
   "metadata": {
    "tags": []
   },
   "outputs": [],
   "source": [
    "textos = []\n",
    "etiquetas = []"
   ]
  },
  {
   "cell_type": "code",
   "execution_count": 12,
   "id": "6dcfaded-506a-414f-8c85-7e77b3e51d83",
   "metadata": {
    "tags": []
   },
   "outputs": [
    {
     "name": "stdout",
     "output_type": "stream",
     "text": [
      "Etiqueta 0 corresponde a Benedetti.txt.\n",
      "Etiqueta 1 corresponde a Neruda.txt.\n"
     ]
    }
   ],
   "source": [
    "for i, texto in enumerate(archivos):\n",
    "    print(\"Etiqueta {} corresponde a {}.\".format(i, texto))"
   ]
  },
  {
   "cell_type": "code",
   "execution_count": 18,
   "id": "8cfe9ae3-a6bd-4a88-8bb5-9979e0a61b53",
   "metadata": {
    "tags": []
   },
   "outputs": [
    {
     "name": "stdout",
     "output_type": "stream",
     "text": [
      "Textos de Benedetti cargados con éxito.\n",
      "Textos de Neruda cargados con éxito.\n"
     ]
    }
   ],
   "source": [
    "## Dataset textos Benedetti\n",
    "\n",
    "# Ruta fichero poemas Benedetti\n",
    "benedetti_path = \"data/Benedetti.txt\"\n",
    "with open(benedetti_path, \"r\", encoding=\"utf-8\") as f:\n",
    "    for line in f:\n",
    "        textos.append(line)\n",
    "        etiquetas.append(0)\n",
    "        #print(line)\n",
    "    print(\"Textos de Benedetti cargados con éxito.\")\n",
    "\n",
    "# ==========================================================\n",
    "    \n",
    "# Ruta fichero poemas Neruda\n",
    "neruda_path = \"data/Neruda.txt\"\n",
    "with open(neruda_path, \"r\", encoding=\"utf-8\") as f:\n",
    "    for line in f:\n",
    "        line = line.rstrip().lower()\n",
    "        textos.append(line)\n",
    "        etiquetas.append(1)\n",
    "        #print(line)\n",
    "    print(\"Textos de Neruda cargados con éxito.\")"
   ]
  },
  {
   "cell_type": "code",
   "execution_count": 19,
   "id": "4da09a68-2de4-4ef6-a82c-3c9d0361e2bc",
   "metadata": {
    "tags": []
   },
   "outputs": [
    {
     "data": {
      "text/plain": [
       "['Poemas varios\\n',\n",
       " 'Mario Benedetti\\n',\n",
       " '\\n',\n",
       " 'La buena tiniebla\\n',\n",
       " 'Una mujer desnuda y en lo oscuro\\n',\n",
       " 'genera un resplandor que da confianza\\n',\n",
       " 'de modo que si sobreviene\\n',\n",
       " 'un apagón o un desconsuelo\\n',\n",
       " 'es conveniente y hasta imprescindible\\n',\n",
       " 'tener a mano una mujer desnuda\\n',\n",
       " 'entonces las paredes se acuarelan\\n',\n",
       " 'el cielo raso se convierte en cielo\\n',\n",
       " 'las telarañas vibran en su ángulo\\n',\n",
       " 'los almanaques dominguean\\n',\n",
       " 'y los ojos felices y felinos\\n',\n",
       " 'miran y no se cansan de mirar\\n',\n",
       " 'una mujer desnuda y en lo oscuro\\n',\n",
       " 'una mujer querida o a querer\\n',\n",
       " 'exorcisa por una vez la muerte.\\n',\n",
       " '\\n',\n",
       " '\\x0cPreliminar del miedo\\n',\n",
       " 'Por sobre las terrazas alunadas\\n',\n",
       " 'donde se aman cautelosamente los gatos\\n',\n",
       " 'y los brillos esquivan las chimeneas\\n',\n",
       " 'creo que nadie sabe lo que yo sé esta noche\\n',\n",
       " 'algo aprendido a pedacitos y a pulsaciones\\n',\n",
       " 'y que integra mi pánico tradicional modesto\\n',\n",
       " '¿cómo desmenuzar plácidamente el miedo\\n',\n",
       " 'comprender por fin que no es una excusa\\n',\n",
       " 'sino un escalofrío parecido al disfrute\\n',\n",
       " 'sólo que amarguísimo y si atenuantes?\\n',\n",
       " 'los suicidas no tienen problemas al respecto\\n',\n",
       " 'deciden derrotarse y a veces lo consiguen\\n',\n",
       " 'entran en el miedo como en una piragua\\n',\n",
       " 'sin remos y con rumbo de cascada\\n',\n",
       " 'son los descubridores del alivio\\n',\n",
       " 'pero la paz les dura una milésima\\n',\n",
       " 'tampoco los homicidas se preocupan mucho\\n',\n",
       " 'limitan el miedo a una coyuntura\\n',\n",
       " 'desenvainan la furia o aprietan el gatillo\\n',\n",
       " 'y todo queda así simplificado y yerto\\n',\n",
       " 'pero los demás o sea los que venimos\\n',\n",
       " 'tironeados por la maravilla\\n',\n",
       " 'y perseguidos por el horror\\n',\n",
       " 'los demás o sea los compinches de la duda\\n',\n",
       " 'los candorosos los irresponsables\\n',\n",
       " 'los violentos pero no tanto\\n',\n",
       " 'los tranquilos pero no mucho\\n',\n",
       " 'los deportados de la buena fe\\n',\n",
       " 'los necesitados de alegría\\n']"
      ]
     },
     "execution_count": 19,
     "metadata": {},
     "output_type": "execute_result"
    }
   ],
   "source": [
    "textos[:50]"
   ]
  }
 ],
 "metadata": {
  "kernelspec": {
   "display_name": "Python 3 (ipykernel)",
   "language": "python",
   "name": "python3"
  },
  "language_info": {
   "codemirror_mode": {
    "name": "ipython",
    "version": 3
   },
   "file_extension": ".py",
   "mimetype": "text/x-python",
   "name": "python",
   "nbconvert_exporter": "python",
   "pygments_lexer": "ipython3",
   "version": "3.11.5"
  }
 },
 "nbformat": 4,
 "nbformat_minor": 5
}
